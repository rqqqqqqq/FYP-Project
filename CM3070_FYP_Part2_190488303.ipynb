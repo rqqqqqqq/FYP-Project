{
  "nbformat": 4,
  "nbformat_minor": 0,
  "metadata": {
    "colab": {
      "provenance": [],
      "collapsed_sections": []
    },
    "kernelspec": {
      "name": "python3",
      "display_name": "Python 3"
    },
    "language_info": {
      "name": "python"
    }
  },
  "cells": [
    {
      "cell_type": "markdown",
      "source": [
        "# CM3070 Final Year Project: Bitcoin Price Forecasting - PART 2\n",
        "\n",
        "Template 1: Deep Learning on a Public Dataset (Machine Learning)\t\t\n",
        "Done by Student Number: 190488303"
      ],
      "metadata": {
        "id": "DgIT7rVCJX_R"
      }
    },
    {
      "cell_type": "markdown",
      "source": [
        "### Reimport data, libraries and packages"
      ],
      "metadata": {
        "id": "YI5NUW6mWo9G"
      }
    },
    {
      "cell_type": "code",
      "source": [
        "from google.colab import drive\n",
        "drive.mount('/content/drive')"
      ],
      "metadata": {
        "colab": {
          "base_uri": "https://localhost:8080/"
        },
        "id": "FKhLtDH0JXgF",
        "outputId": "194c4a59-2177-40f9-d2f6-c9b497ed2687"
      },
      "execution_count": 1,
      "outputs": [
        {
          "output_type": "stream",
          "name": "stdout",
          "text": [
            "Drive already mounted at /content/drive; to attempt to forcibly remount, call drive.mount(\"/content/drive\", force_remount=True).\n"
          ]
        }
      ]
    },
    {
      "cell_type": "code",
      "source": [
        "ls drive/MyDrive/bitcoin_data.csv"
      ],
      "metadata": {
        "colab": {
          "base_uri": "https://localhost:8080/"
        },
        "id": "CWDi6mnKW60z",
        "outputId": "c578311b-ee02-4852-be09-6779cb0cd627"
      },
      "execution_count": 2,
      "outputs": [
        {
          "output_type": "stream",
          "name": "stdout",
          "text": [
            "drive/MyDrive/bitcoin_data.csv\n"
          ]
        }
      ]
    },
    {
      "cell_type": "code",
      "source": [
        "import pandas as pd\n",
        "import numpy as np\n",
        "import matplotlib.pyplot as plt\n",
        "import seaborn as sns\n",
        "\n",
        "from datetime import datetime\n",
        "import plotly.graph_objs as go\n",
        "import gc\n",
        "\n",
        "from sklearn.model_selection import TimeSeriesSplit\n",
        "from sklearn.model_selection import train_test_split\n",
        "\n",
        "from plotly import tools\n",
        "from plotly.offline import init_notebook_mode, iplot\n",
        "init_notebook_mode(connected=True)"
      ],
      "metadata": {
        "colab": {
          "base_uri": "https://localhost:8080/",
          "height": 17
        },
        "id": "msmWVmccJXTY",
        "outputId": "a458feea-804d-4b62-f2c1-6a3953d1d3f3"
      },
      "execution_count": 3,
      "outputs": [
        {
          "output_type": "display_data",
          "data": {
            "text/html": [
              "        <script type=\"text/javascript\">\n",
              "        window.PlotlyConfig = {MathJaxConfig: 'local'};\n",
              "        if (window.MathJax) {MathJax.Hub.Config({SVG: {font: \"STIX-Web\"}});}\n",
              "        if (typeof require !== 'undefined') {\n",
              "        require.undef(\"plotly\");\n",
              "        requirejs.config({\n",
              "            paths: {\n",
              "                'plotly': ['https://cdn.plot.ly/plotly-2.8.3.min']\n",
              "            }\n",
              "        });\n",
              "        require(['plotly'], function(Plotly) {\n",
              "            window._Plotly = Plotly;\n",
              "        });\n",
              "        }\n",
              "        </script>\n",
              "        "
            ]
          },
          "metadata": {}
        }
      ]
    },
    {
      "cell_type": "code",
      "source": [
        "#create a function for conversion for the native timestamps in the csv file\n",
        "\n",
        "import datetime, pytz\n",
        "\n",
        "def dateparse (time_in_secs):    \n",
        "    return pytz.utc.localize(datetime.datetime.fromtimestamp(float(time_in_secs)))\n",
        "\n",
        "bitcoin_df = pd.read_csv(\"drive/MyDrive/bitcoin_data.csv\", parse_dates = [0], date_parser = dateparse)\n",
        "bitcoin_df.head()"
      ],
      "metadata": {
        "colab": {
          "base_uri": "https://localhost:8080/",
          "height": 204
        },
        "id": "x6X3-HhxW64A",
        "outputId": "dc2e8b7a-a08d-4851-ee16-0ea494a9103a"
      },
      "execution_count": 4,
      "outputs": [
        {
          "output_type": "execute_result",
          "data": {
            "text/plain": [
              "                  Timestamp  Open  High   Low  Close  Volume_(BTC)  \\\n",
              "0 2011-12-31 07:52:00+00:00  4.39  4.39  4.39   4.39      0.455581   \n",
              "1 2011-12-31 07:53:00+00:00   NaN   NaN   NaN    NaN           NaN   \n",
              "2 2011-12-31 07:54:00+00:00   NaN   NaN   NaN    NaN           NaN   \n",
              "3 2011-12-31 07:55:00+00:00   NaN   NaN   NaN    NaN           NaN   \n",
              "4 2011-12-31 07:56:00+00:00   NaN   NaN   NaN    NaN           NaN   \n",
              "\n",
              "   Volume_(Currency)  Weighted_Price  \n",
              "0                2.0            4.39  \n",
              "1                NaN             NaN  \n",
              "2                NaN             NaN  \n",
              "3                NaN             NaN  \n",
              "4                NaN             NaN  "
            ],
            "text/html": [
              "\n",
              "  <div id=\"df-32ed3d3e-f117-426a-93d9-559e89401dbf\">\n",
              "    <div class=\"colab-df-container\">\n",
              "      <div>\n",
              "<style scoped>\n",
              "    .dataframe tbody tr th:only-of-type {\n",
              "        vertical-align: middle;\n",
              "    }\n",
              "\n",
              "    .dataframe tbody tr th {\n",
              "        vertical-align: top;\n",
              "    }\n",
              "\n",
              "    .dataframe thead th {\n",
              "        text-align: right;\n",
              "    }\n",
              "</style>\n",
              "<table border=\"1\" class=\"dataframe\">\n",
              "  <thead>\n",
              "    <tr style=\"text-align: right;\">\n",
              "      <th></th>\n",
              "      <th>Timestamp</th>\n",
              "      <th>Open</th>\n",
              "      <th>High</th>\n",
              "      <th>Low</th>\n",
              "      <th>Close</th>\n",
              "      <th>Volume_(BTC)</th>\n",
              "      <th>Volume_(Currency)</th>\n",
              "      <th>Weighted_Price</th>\n",
              "    </tr>\n",
              "  </thead>\n",
              "  <tbody>\n",
              "    <tr>\n",
              "      <th>0</th>\n",
              "      <td>2011-12-31 07:52:00+00:00</td>\n",
              "      <td>4.39</td>\n",
              "      <td>4.39</td>\n",
              "      <td>4.39</td>\n",
              "      <td>4.39</td>\n",
              "      <td>0.455581</td>\n",
              "      <td>2.0</td>\n",
              "      <td>4.39</td>\n",
              "    </tr>\n",
              "    <tr>\n",
              "      <th>1</th>\n",
              "      <td>2011-12-31 07:53:00+00:00</td>\n",
              "      <td>NaN</td>\n",
              "      <td>NaN</td>\n",
              "      <td>NaN</td>\n",
              "      <td>NaN</td>\n",
              "      <td>NaN</td>\n",
              "      <td>NaN</td>\n",
              "      <td>NaN</td>\n",
              "    </tr>\n",
              "    <tr>\n",
              "      <th>2</th>\n",
              "      <td>2011-12-31 07:54:00+00:00</td>\n",
              "      <td>NaN</td>\n",
              "      <td>NaN</td>\n",
              "      <td>NaN</td>\n",
              "      <td>NaN</td>\n",
              "      <td>NaN</td>\n",
              "      <td>NaN</td>\n",
              "      <td>NaN</td>\n",
              "    </tr>\n",
              "    <tr>\n",
              "      <th>3</th>\n",
              "      <td>2011-12-31 07:55:00+00:00</td>\n",
              "      <td>NaN</td>\n",
              "      <td>NaN</td>\n",
              "      <td>NaN</td>\n",
              "      <td>NaN</td>\n",
              "      <td>NaN</td>\n",
              "      <td>NaN</td>\n",
              "      <td>NaN</td>\n",
              "    </tr>\n",
              "    <tr>\n",
              "      <th>4</th>\n",
              "      <td>2011-12-31 07:56:00+00:00</td>\n",
              "      <td>NaN</td>\n",
              "      <td>NaN</td>\n",
              "      <td>NaN</td>\n",
              "      <td>NaN</td>\n",
              "      <td>NaN</td>\n",
              "      <td>NaN</td>\n",
              "      <td>NaN</td>\n",
              "    </tr>\n",
              "  </tbody>\n",
              "</table>\n",
              "</div>\n",
              "      <button class=\"colab-df-convert\" onclick=\"convertToInteractive('df-32ed3d3e-f117-426a-93d9-559e89401dbf')\"\n",
              "              title=\"Convert this dataframe to an interactive table.\"\n",
              "              style=\"display:none;\">\n",
              "        \n",
              "  <svg xmlns=\"http://www.w3.org/2000/svg\" height=\"24px\"viewBox=\"0 0 24 24\"\n",
              "       width=\"24px\">\n",
              "    <path d=\"M0 0h24v24H0V0z\" fill=\"none\"/>\n",
              "    <path d=\"M18.56 5.44l.94 2.06.94-2.06 2.06-.94-2.06-.94-.94-2.06-.94 2.06-2.06.94zm-11 1L8.5 8.5l.94-2.06 2.06-.94-2.06-.94L8.5 2.5l-.94 2.06-2.06.94zm10 10l.94 2.06.94-2.06 2.06-.94-2.06-.94-.94-2.06-.94 2.06-2.06.94z\"/><path d=\"M17.41 7.96l-1.37-1.37c-.4-.4-.92-.59-1.43-.59-.52 0-1.04.2-1.43.59L10.3 9.45l-7.72 7.72c-.78.78-.78 2.05 0 2.83L4 21.41c.39.39.9.59 1.41.59.51 0 1.02-.2 1.41-.59l7.78-7.78 2.81-2.81c.8-.78.8-2.07 0-2.86zM5.41 20L4 18.59l7.72-7.72 1.47 1.35L5.41 20z\"/>\n",
              "  </svg>\n",
              "      </button>\n",
              "      \n",
              "  <style>\n",
              "    .colab-df-container {\n",
              "      display:flex;\n",
              "      flex-wrap:wrap;\n",
              "      gap: 12px;\n",
              "    }\n",
              "\n",
              "    .colab-df-convert {\n",
              "      background-color: #E8F0FE;\n",
              "      border: none;\n",
              "      border-radius: 50%;\n",
              "      cursor: pointer;\n",
              "      display: none;\n",
              "      fill: #1967D2;\n",
              "      height: 32px;\n",
              "      padding: 0 0 0 0;\n",
              "      width: 32px;\n",
              "    }\n",
              "\n",
              "    .colab-df-convert:hover {\n",
              "      background-color: #E2EBFA;\n",
              "      box-shadow: 0px 1px 2px rgba(60, 64, 67, 0.3), 0px 1px 3px 1px rgba(60, 64, 67, 0.15);\n",
              "      fill: #174EA6;\n",
              "    }\n",
              "\n",
              "    [theme=dark] .colab-df-convert {\n",
              "      background-color: #3B4455;\n",
              "      fill: #D2E3FC;\n",
              "    }\n",
              "\n",
              "    [theme=dark] .colab-df-convert:hover {\n",
              "      background-color: #434B5C;\n",
              "      box-shadow: 0px 1px 3px 1px rgba(0, 0, 0, 0.15);\n",
              "      filter: drop-shadow(0px 1px 2px rgba(0, 0, 0, 0.3));\n",
              "      fill: #FFFFFF;\n",
              "    }\n",
              "  </style>\n",
              "\n",
              "      <script>\n",
              "        const buttonEl =\n",
              "          document.querySelector('#df-32ed3d3e-f117-426a-93d9-559e89401dbf button.colab-df-convert');\n",
              "        buttonEl.style.display =\n",
              "          google.colab.kernel.accessAllowed ? 'block' : 'none';\n",
              "\n",
              "        async function convertToInteractive(key) {\n",
              "          const element = document.querySelector('#df-32ed3d3e-f117-426a-93d9-559e89401dbf');\n",
              "          const dataTable =\n",
              "            await google.colab.kernel.invokeFunction('convertToInteractive',\n",
              "                                                     [key], {});\n",
              "          if (!dataTable) return;\n",
              "\n",
              "          const docLinkHtml = 'Like what you see? Visit the ' +\n",
              "            '<a target=\"_blank\" href=https://colab.research.google.com/notebooks/data_table.ipynb>data table notebook</a>'\n",
              "            + ' to learn more about interactive tables.';\n",
              "          element.innerHTML = '';\n",
              "          dataTable['output_type'] = 'display_data';\n",
              "          await google.colab.output.renderOutput(dataTable, element);\n",
              "          const docLink = document.createElement('div');\n",
              "          docLink.innerHTML = docLinkHtml;\n",
              "          element.appendChild(docLink);\n",
              "        }\n",
              "      </script>\n",
              "    </div>\n",
              "  </div>\n",
              "  "
            ]
          },
          "metadata": {},
          "execution_count": 4
        }
      ]
    },
    {
      "cell_type": "markdown",
      "source": [
        "## Pre-process data"
      ],
      "metadata": {
        "id": "rofUll2XZUKF"
      }
    },
    {
      "cell_type": "code",
      "source": [
        "# using hourly data\n",
        "bitcoin_df = bitcoin_df.groupby([pd.Grouper(key='Timestamp', freq='H')]).first().reset_index()\n",
        "\n",
        "# setting timestamp as index\n",
        "bitcoin_df['Timestamp'] = bitcoin_df['Timestamp'].dt.tz_localize(None)\n",
        "bitcoin_df = bitcoin_df.set_index('Timestamp')\n",
        "\n",
        "# using weighted price to represent btc price\n",
        "bitcoin_df = bitcoin_df[['Weighted_Price']]\n",
        "\n",
        "# fill null values with previous data\n",
        "bitcoin_df['Weighted_Price'].fillna(method='ffill', inplace=True)\n",
        "bitcoin_df.head()"
      ],
      "metadata": {
        "colab": {
          "base_uri": "https://localhost:8080/",
          "height": 235
        },
        "id": "hmDbuN6bW69W",
        "outputId": "5c36ad6b-a420-4535-d30f-23efa8b2e960"
      },
      "execution_count": 5,
      "outputs": [
        {
          "output_type": "execute_result",
          "data": {
            "text/plain": [
              "                     Weighted_Price\n",
              "Timestamp                          \n",
              "2011-12-31 07:00:00            4.39\n",
              "2011-12-31 08:00:00            4.39\n",
              "2011-12-31 09:00:00            4.39\n",
              "2011-12-31 10:00:00            4.39\n",
              "2011-12-31 11:00:00            4.39"
            ],
            "text/html": [
              "\n",
              "  <div id=\"df-70d40ea1-6b68-44ad-98bf-9e7b9c4e4c05\">\n",
              "    <div class=\"colab-df-container\">\n",
              "      <div>\n",
              "<style scoped>\n",
              "    .dataframe tbody tr th:only-of-type {\n",
              "        vertical-align: middle;\n",
              "    }\n",
              "\n",
              "    .dataframe tbody tr th {\n",
              "        vertical-align: top;\n",
              "    }\n",
              "\n",
              "    .dataframe thead th {\n",
              "        text-align: right;\n",
              "    }\n",
              "</style>\n",
              "<table border=\"1\" class=\"dataframe\">\n",
              "  <thead>\n",
              "    <tr style=\"text-align: right;\">\n",
              "      <th></th>\n",
              "      <th>Weighted_Price</th>\n",
              "    </tr>\n",
              "    <tr>\n",
              "      <th>Timestamp</th>\n",
              "      <th></th>\n",
              "    </tr>\n",
              "  </thead>\n",
              "  <tbody>\n",
              "    <tr>\n",
              "      <th>2011-12-31 07:00:00</th>\n",
              "      <td>4.39</td>\n",
              "    </tr>\n",
              "    <tr>\n",
              "      <th>2011-12-31 08:00:00</th>\n",
              "      <td>4.39</td>\n",
              "    </tr>\n",
              "    <tr>\n",
              "      <th>2011-12-31 09:00:00</th>\n",
              "      <td>4.39</td>\n",
              "    </tr>\n",
              "    <tr>\n",
              "      <th>2011-12-31 10:00:00</th>\n",
              "      <td>4.39</td>\n",
              "    </tr>\n",
              "    <tr>\n",
              "      <th>2011-12-31 11:00:00</th>\n",
              "      <td>4.39</td>\n",
              "    </tr>\n",
              "  </tbody>\n",
              "</table>\n",
              "</div>\n",
              "      <button class=\"colab-df-convert\" onclick=\"convertToInteractive('df-70d40ea1-6b68-44ad-98bf-9e7b9c4e4c05')\"\n",
              "              title=\"Convert this dataframe to an interactive table.\"\n",
              "              style=\"display:none;\">\n",
              "        \n",
              "  <svg xmlns=\"http://www.w3.org/2000/svg\" height=\"24px\"viewBox=\"0 0 24 24\"\n",
              "       width=\"24px\">\n",
              "    <path d=\"M0 0h24v24H0V0z\" fill=\"none\"/>\n",
              "    <path d=\"M18.56 5.44l.94 2.06.94-2.06 2.06-.94-2.06-.94-.94-2.06-.94 2.06-2.06.94zm-11 1L8.5 8.5l.94-2.06 2.06-.94-2.06-.94L8.5 2.5l-.94 2.06-2.06.94zm10 10l.94 2.06.94-2.06 2.06-.94-2.06-.94-.94-2.06-.94 2.06-2.06.94z\"/><path d=\"M17.41 7.96l-1.37-1.37c-.4-.4-.92-.59-1.43-.59-.52 0-1.04.2-1.43.59L10.3 9.45l-7.72 7.72c-.78.78-.78 2.05 0 2.83L4 21.41c.39.39.9.59 1.41.59.51 0 1.02-.2 1.41-.59l7.78-7.78 2.81-2.81c.8-.78.8-2.07 0-2.86zM5.41 20L4 18.59l7.72-7.72 1.47 1.35L5.41 20z\"/>\n",
              "  </svg>\n",
              "      </button>\n",
              "      \n",
              "  <style>\n",
              "    .colab-df-container {\n",
              "      display:flex;\n",
              "      flex-wrap:wrap;\n",
              "      gap: 12px;\n",
              "    }\n",
              "\n",
              "    .colab-df-convert {\n",
              "      background-color: #E8F0FE;\n",
              "      border: none;\n",
              "      border-radius: 50%;\n",
              "      cursor: pointer;\n",
              "      display: none;\n",
              "      fill: #1967D2;\n",
              "      height: 32px;\n",
              "      padding: 0 0 0 0;\n",
              "      width: 32px;\n",
              "    }\n",
              "\n",
              "    .colab-df-convert:hover {\n",
              "      background-color: #E2EBFA;\n",
              "      box-shadow: 0px 1px 2px rgba(60, 64, 67, 0.3), 0px 1px 3px 1px rgba(60, 64, 67, 0.15);\n",
              "      fill: #174EA6;\n",
              "    }\n",
              "\n",
              "    [theme=dark] .colab-df-convert {\n",
              "      background-color: #3B4455;\n",
              "      fill: #D2E3FC;\n",
              "    }\n",
              "\n",
              "    [theme=dark] .colab-df-convert:hover {\n",
              "      background-color: #434B5C;\n",
              "      box-shadow: 0px 1px 3px 1px rgba(0, 0, 0, 0.15);\n",
              "      filter: drop-shadow(0px 1px 2px rgba(0, 0, 0, 0.3));\n",
              "      fill: #FFFFFF;\n",
              "    }\n",
              "  </style>\n",
              "\n",
              "      <script>\n",
              "        const buttonEl =\n",
              "          document.querySelector('#df-70d40ea1-6b68-44ad-98bf-9e7b9c4e4c05 button.colab-df-convert');\n",
              "        buttonEl.style.display =\n",
              "          google.colab.kernel.accessAllowed ? 'block' : 'none';\n",
              "\n",
              "        async function convertToInteractive(key) {\n",
              "          const element = document.querySelector('#df-70d40ea1-6b68-44ad-98bf-9e7b9c4e4c05');\n",
              "          const dataTable =\n",
              "            await google.colab.kernel.invokeFunction('convertToInteractive',\n",
              "                                                     [key], {});\n",
              "          if (!dataTable) return;\n",
              "\n",
              "          const docLinkHtml = 'Like what you see? Visit the ' +\n",
              "            '<a target=\"_blank\" href=https://colab.research.google.com/notebooks/data_table.ipynb>data table notebook</a>'\n",
              "            + ' to learn more about interactive tables.';\n",
              "          element.innerHTML = '';\n",
              "          dataTable['output_type'] = 'display_data';\n",
              "          await google.colab.output.renderOutput(dataTable, element);\n",
              "          const docLink = document.createElement('div');\n",
              "          docLink.innerHTML = docLinkHtml;\n",
              "          element.appendChild(docLink);\n",
              "        }\n",
              "      </script>\n",
              "    </div>\n",
              "  </div>\n",
              "  "
            ]
          },
          "metadata": {},
          "execution_count": 5
        }
      ]
    },
    {
      "cell_type": "code",
      "source": [
        "# using data from pre-covid era\n",
        "\n",
        "day_of_split = '1-Nov-2020'\n",
        "new_df = bitcoin_df.loc[bitcoin_df.index < day_of_split].copy()\n",
        "\n",
        "print(new_df.shape)\n",
        "\n",
        "new_df.tail()"
      ],
      "metadata": {
        "colab": {
          "base_uri": "https://localhost:8080/",
          "height": 252
        },
        "id": "DgO9PwWfW6_1",
        "outputId": "072adfa5-b2f4-4967-f2fa-f58077534f01"
      },
      "execution_count": 6,
      "outputs": [
        {
          "output_type": "stream",
          "name": "stdout",
          "text": [
            "(77465, 1)\n"
          ]
        },
        {
          "output_type": "execute_result",
          "data": {
            "text/plain": [
              "                     Weighted_Price\n",
              "Timestamp                          \n",
              "2020-10-31 19:00:00    13721.410258\n",
              "2020-10-31 20:00:00    13790.617058\n",
              "2020-10-31 21:00:00    13857.773177\n",
              "2020-10-31 22:00:00    13849.847259\n",
              "2020-10-31 23:00:00    13876.907219"
            ],
            "text/html": [
              "\n",
              "  <div id=\"df-45db8ceb-7197-4ee3-9bdf-f602c84fa420\">\n",
              "    <div class=\"colab-df-container\">\n",
              "      <div>\n",
              "<style scoped>\n",
              "    .dataframe tbody tr th:only-of-type {\n",
              "        vertical-align: middle;\n",
              "    }\n",
              "\n",
              "    .dataframe tbody tr th {\n",
              "        vertical-align: top;\n",
              "    }\n",
              "\n",
              "    .dataframe thead th {\n",
              "        text-align: right;\n",
              "    }\n",
              "</style>\n",
              "<table border=\"1\" class=\"dataframe\">\n",
              "  <thead>\n",
              "    <tr style=\"text-align: right;\">\n",
              "      <th></th>\n",
              "      <th>Weighted_Price</th>\n",
              "    </tr>\n",
              "    <tr>\n",
              "      <th>Timestamp</th>\n",
              "      <th></th>\n",
              "    </tr>\n",
              "  </thead>\n",
              "  <tbody>\n",
              "    <tr>\n",
              "      <th>2020-10-31 19:00:00</th>\n",
              "      <td>13721.410258</td>\n",
              "    </tr>\n",
              "    <tr>\n",
              "      <th>2020-10-31 20:00:00</th>\n",
              "      <td>13790.617058</td>\n",
              "    </tr>\n",
              "    <tr>\n",
              "      <th>2020-10-31 21:00:00</th>\n",
              "      <td>13857.773177</td>\n",
              "    </tr>\n",
              "    <tr>\n",
              "      <th>2020-10-31 22:00:00</th>\n",
              "      <td>13849.847259</td>\n",
              "    </tr>\n",
              "    <tr>\n",
              "      <th>2020-10-31 23:00:00</th>\n",
              "      <td>13876.907219</td>\n",
              "    </tr>\n",
              "  </tbody>\n",
              "</table>\n",
              "</div>\n",
              "      <button class=\"colab-df-convert\" onclick=\"convertToInteractive('df-45db8ceb-7197-4ee3-9bdf-f602c84fa420')\"\n",
              "              title=\"Convert this dataframe to an interactive table.\"\n",
              "              style=\"display:none;\">\n",
              "        \n",
              "  <svg xmlns=\"http://www.w3.org/2000/svg\" height=\"24px\"viewBox=\"0 0 24 24\"\n",
              "       width=\"24px\">\n",
              "    <path d=\"M0 0h24v24H0V0z\" fill=\"none\"/>\n",
              "    <path d=\"M18.56 5.44l.94 2.06.94-2.06 2.06-.94-2.06-.94-.94-2.06-.94 2.06-2.06.94zm-11 1L8.5 8.5l.94-2.06 2.06-.94-2.06-.94L8.5 2.5l-.94 2.06-2.06.94zm10 10l.94 2.06.94-2.06 2.06-.94-2.06-.94-.94-2.06-.94 2.06-2.06.94z\"/><path d=\"M17.41 7.96l-1.37-1.37c-.4-.4-.92-.59-1.43-.59-.52 0-1.04.2-1.43.59L10.3 9.45l-7.72 7.72c-.78.78-.78 2.05 0 2.83L4 21.41c.39.39.9.59 1.41.59.51 0 1.02-.2 1.41-.59l7.78-7.78 2.81-2.81c.8-.78.8-2.07 0-2.86zM5.41 20L4 18.59l7.72-7.72 1.47 1.35L5.41 20z\"/>\n",
              "  </svg>\n",
              "      </button>\n",
              "      \n",
              "  <style>\n",
              "    .colab-df-container {\n",
              "      display:flex;\n",
              "      flex-wrap:wrap;\n",
              "      gap: 12px;\n",
              "    }\n",
              "\n",
              "    .colab-df-convert {\n",
              "      background-color: #E8F0FE;\n",
              "      border: none;\n",
              "      border-radius: 50%;\n",
              "      cursor: pointer;\n",
              "      display: none;\n",
              "      fill: #1967D2;\n",
              "      height: 32px;\n",
              "      padding: 0 0 0 0;\n",
              "      width: 32px;\n",
              "    }\n",
              "\n",
              "    .colab-df-convert:hover {\n",
              "      background-color: #E2EBFA;\n",
              "      box-shadow: 0px 1px 2px rgba(60, 64, 67, 0.3), 0px 1px 3px 1px rgba(60, 64, 67, 0.15);\n",
              "      fill: #174EA6;\n",
              "    }\n",
              "\n",
              "    [theme=dark] .colab-df-convert {\n",
              "      background-color: #3B4455;\n",
              "      fill: #D2E3FC;\n",
              "    }\n",
              "\n",
              "    [theme=dark] .colab-df-convert:hover {\n",
              "      background-color: #434B5C;\n",
              "      box-shadow: 0px 1px 3px 1px rgba(0, 0, 0, 0.15);\n",
              "      filter: drop-shadow(0px 1px 2px rgba(0, 0, 0, 0.3));\n",
              "      fill: #FFFFFF;\n",
              "    }\n",
              "  </style>\n",
              "\n",
              "      <script>\n",
              "        const buttonEl =\n",
              "          document.querySelector('#df-45db8ceb-7197-4ee3-9bdf-f602c84fa420 button.colab-df-convert');\n",
              "        buttonEl.style.display =\n",
              "          google.colab.kernel.accessAllowed ? 'block' : 'none';\n",
              "\n",
              "        async function convertToInteractive(key) {\n",
              "          const element = document.querySelector('#df-45db8ceb-7197-4ee3-9bdf-f602c84fa420');\n",
              "          const dataTable =\n",
              "            await google.colab.kernel.invokeFunction('convertToInteractive',\n",
              "                                                     [key], {});\n",
              "          if (!dataTable) return;\n",
              "\n",
              "          const docLinkHtml = 'Like what you see? Visit the ' +\n",
              "            '<a target=\"_blank\" href=https://colab.research.google.com/notebooks/data_table.ipynb>data table notebook</a>'\n",
              "            + ' to learn more about interactive tables.';\n",
              "          element.innerHTML = '';\n",
              "          dataTable['output_type'] = 'display_data';\n",
              "          await google.colab.output.renderOutput(dataTable, element);\n",
              "          const docLink = document.createElement('div');\n",
              "          docLink.innerHTML = docLinkHtml;\n",
              "          element.appendChild(docLink);\n",
              "        }\n",
              "      </script>\n",
              "    </div>\n",
              "  </div>\n",
              "  "
            ]
          },
          "metadata": {},
          "execution_count": 6
        }
      ]
    },
    {
      "cell_type": "markdown",
      "source": [
        "## Data splitting"
      ],
      "metadata": {
        "id": "o5KQ3SiX_cPf"
      }
    },
    {
      "cell_type": "code",
      "source": [
        "# splitting data into training and test sets\n",
        "day_of_split = '25-Jun-2018'\n",
        "\n",
        "testing_data = new_df.loc[new_df.index > day_of_split].copy()\n",
        "training_data = new_df.loc[new_df.index <= day_of_split].copy()\n",
        "\n",
        "print(testing_data.shape)\n",
        "print(training_data.shape)"
      ],
      "metadata": {
        "colab": {
          "base_uri": "https://localhost:8080/"
        },
        "id": "CB5IDzN4YhKR",
        "outputId": "1ba5e16f-5517-41f4-a38c-e45e81ea9ef1"
      },
      "execution_count": 7,
      "outputs": [
        {
          "output_type": "stream",
          "name": "stdout",
          "text": [
            "(20639, 1)\n",
            "(56826, 1)\n"
          ]
        }
      ]
    },
    {
      "cell_type": "markdown",
      "source": [
        "## Pre-processing"
      ],
      "metadata": {
        "id": "rbRwV90A_jI5"
      }
    },
    {
      "cell_type": "code",
      "source": [
        "# data preprocessing\n",
        "set_train_val = training_data.values\n",
        "set_train_val = np.reshape(set_train_val, (len(set_train_val), 1))\n",
        "\n",
        "from sklearn.preprocessing import MinMaxScaler\n",
        "\n",
        "mms = MinMaxScaler()\n",
        "set_train_val = mms.fit_transform(set_train_val)\n",
        "y_train = set_train_val[1: len(set_train_val)]\n",
        "X_train = set_train_val[0: len(set_train_val)-1]\n",
        "\n",
        "print(X_train.shape)\n",
        "print(y_train.shape)"
      ],
      "metadata": {
        "colab": {
          "base_uri": "https://localhost:8080/"
        },
        "id": "FmbsZG1fYhMt",
        "outputId": "09e570b7-0a11-473a-d87b-966255139e26"
      },
      "execution_count": 9,
      "outputs": [
        {
          "output_type": "stream",
          "name": "stdout",
          "text": [
            "(56825, 1)\n",
            "(56825, 1)\n"
          ]
        }
      ]
    },
    {
      "cell_type": "markdown",
      "source": [
        "### 5.4 Linear Regression"
      ],
      "metadata": {
        "id": "gm_PvTM2WvYs"
      }
    },
    {
      "cell_type": "markdown",
      "source": [
        "5.4.1 Modelling"
      ],
      "metadata": {
        "id": "g5lhl3IFACjU"
      }
    },
    {
      "cell_type": "code",
      "source": [
        "import numpy as np\n",
        "from sklearn.linear_model import LinearRegression\n",
        "\n",
        "lr_model = LinearRegression()\n",
        "lr_model.fit(X_train, y_train)"
      ],
      "metadata": {
        "colab": {
          "base_uri": "https://localhost:8080/"
        },
        "id": "YuyUDrGTWycd",
        "outputId": "d3e54b56-cc45-4a78-d21b-6a132c3d4661"
      },
      "execution_count": 12,
      "outputs": [
        {
          "output_type": "execute_result",
          "data": {
            "text/plain": [
              "LinearRegression()"
            ]
          },
          "metadata": {},
          "execution_count": 12
        }
      ]
    },
    {
      "cell_type": "markdown",
      "source": [
        "5.4.2 Prediction"
      ],
      "metadata": {
        "id": "yal8ZZ_aAFLA"
      }
    },
    {
      "cell_type": "code",
      "source": [
        "# forming predictions\n",
        "\n",
        "set_test_val = testing_data.values\n",
        "\n",
        "insert = np.reshape(set_test_val, (len(set_test_val), 1))\n",
        "insert = mms.transform(insert)\n",
        "insert = np.reshape(insert, (len(insert), 1))\n",
        "\n",
        "btc_price_prediction = lr_model.predict(insert)\n",
        "btc_price_prediction = btc_price_prediction.reshape(1, -1)\n",
        "btc_price_prediction = mms.inverse_transform(btc_price_prediction)\n",
        "btc_price_prediction = btc_price_prediction.reshape(-1, 1)\n",
        "\n",
        "btc_price_prediction"
      ],
      "metadata": {
        "id": "QBL4C0umW3i7",
        "colab": {
          "base_uri": "https://localhost:8080/"
        },
        "outputId": "2adc4e07-8ea9-491d-a28c-704159a09d35"
      },
      "execution_count": 13,
      "outputs": [
        {
          "output_type": "execute_result",
          "data": {
            "text/plain": [
              "array([[ 6169.48214427],\n",
              "       [ 6147.95723448],\n",
              "       [ 6131.03142772],\n",
              "       ...,\n",
              "       [13856.57632627],\n",
              "       [13848.65124721],\n",
              "       [13875.70834297]])"
            ]
          },
          "metadata": {},
          "execution_count": 13
        }
      ]
    },
    {
      "cell_type": "code",
      "source": [
        "testing_data['Weighted_Price_Prediction'] = btc_price_prediction\n",
        "data_all = pd.concat([testing_data, training_data], sort=False)\n",
        "\n",
        "# store predicted values into common dataframe \n",
        "df_last = data_all\n",
        "df_last = df_last.reset_index()\n",
        "df_last = df_last.rename(columns = {'Weighted_Price_Prediction': 'LR'})\n",
        "df_last = df_last[['Timestamp','Weighted_Price','LR']]\n",
        "df_last.head()"
      ],
      "metadata": {
        "colab": {
          "base_uri": "https://localhost:8080/",
          "height": 204
        },
        "id": "F29IqbTXW3mh",
        "outputId": "0dc6ea65-e490-4bca-bda1-ac86b97cc824"
      },
      "execution_count": 14,
      "outputs": [
        {
          "output_type": "execute_result",
          "data": {
            "text/plain": [
              "            Timestamp  Weighted_Price           LR\n",
              "0 2018-06-25 01:00:00     6169.865248  6169.482144\n",
              "1 2018-06-25 02:00:00     6148.338059  6147.957234\n",
              "2 2018-06-25 03:00:00     6131.410461  6131.031428\n",
              "3 2018-06-25 04:00:00     6139.076296  6138.696451\n",
              "4 2018-06-25 05:00:00     6141.563349  6141.183241"
            ],
            "text/html": [
              "\n",
              "  <div id=\"df-5ed8fc74-8586-43ab-bb70-488a150ff37b\">\n",
              "    <div class=\"colab-df-container\">\n",
              "      <div>\n",
              "<style scoped>\n",
              "    .dataframe tbody tr th:only-of-type {\n",
              "        vertical-align: middle;\n",
              "    }\n",
              "\n",
              "    .dataframe tbody tr th {\n",
              "        vertical-align: top;\n",
              "    }\n",
              "\n",
              "    .dataframe thead th {\n",
              "        text-align: right;\n",
              "    }\n",
              "</style>\n",
              "<table border=\"1\" class=\"dataframe\">\n",
              "  <thead>\n",
              "    <tr style=\"text-align: right;\">\n",
              "      <th></th>\n",
              "      <th>Timestamp</th>\n",
              "      <th>Weighted_Price</th>\n",
              "      <th>LR</th>\n",
              "    </tr>\n",
              "  </thead>\n",
              "  <tbody>\n",
              "    <tr>\n",
              "      <th>0</th>\n",
              "      <td>2018-06-25 01:00:00</td>\n",
              "      <td>6169.865248</td>\n",
              "      <td>6169.482144</td>\n",
              "    </tr>\n",
              "    <tr>\n",
              "      <th>1</th>\n",
              "      <td>2018-06-25 02:00:00</td>\n",
              "      <td>6148.338059</td>\n",
              "      <td>6147.957234</td>\n",
              "    </tr>\n",
              "    <tr>\n",
              "      <th>2</th>\n",
              "      <td>2018-06-25 03:00:00</td>\n",
              "      <td>6131.410461</td>\n",
              "      <td>6131.031428</td>\n",
              "    </tr>\n",
              "    <tr>\n",
              "      <th>3</th>\n",
              "      <td>2018-06-25 04:00:00</td>\n",
              "      <td>6139.076296</td>\n",
              "      <td>6138.696451</td>\n",
              "    </tr>\n",
              "    <tr>\n",
              "      <th>4</th>\n",
              "      <td>2018-06-25 05:00:00</td>\n",
              "      <td>6141.563349</td>\n",
              "      <td>6141.183241</td>\n",
              "    </tr>\n",
              "  </tbody>\n",
              "</table>\n",
              "</div>\n",
              "      <button class=\"colab-df-convert\" onclick=\"convertToInteractive('df-5ed8fc74-8586-43ab-bb70-488a150ff37b')\"\n",
              "              title=\"Convert this dataframe to an interactive table.\"\n",
              "              style=\"display:none;\">\n",
              "        \n",
              "  <svg xmlns=\"http://www.w3.org/2000/svg\" height=\"24px\"viewBox=\"0 0 24 24\"\n",
              "       width=\"24px\">\n",
              "    <path d=\"M0 0h24v24H0V0z\" fill=\"none\"/>\n",
              "    <path d=\"M18.56 5.44l.94 2.06.94-2.06 2.06-.94-2.06-.94-.94-2.06-.94 2.06-2.06.94zm-11 1L8.5 8.5l.94-2.06 2.06-.94-2.06-.94L8.5 2.5l-.94 2.06-2.06.94zm10 10l.94 2.06.94-2.06 2.06-.94-2.06-.94-.94-2.06-.94 2.06-2.06.94z\"/><path d=\"M17.41 7.96l-1.37-1.37c-.4-.4-.92-.59-1.43-.59-.52 0-1.04.2-1.43.59L10.3 9.45l-7.72 7.72c-.78.78-.78 2.05 0 2.83L4 21.41c.39.39.9.59 1.41.59.51 0 1.02-.2 1.41-.59l7.78-7.78 2.81-2.81c.8-.78.8-2.07 0-2.86zM5.41 20L4 18.59l7.72-7.72 1.47 1.35L5.41 20z\"/>\n",
              "  </svg>\n",
              "      </button>\n",
              "      \n",
              "  <style>\n",
              "    .colab-df-container {\n",
              "      display:flex;\n",
              "      flex-wrap:wrap;\n",
              "      gap: 12px;\n",
              "    }\n",
              "\n",
              "    .colab-df-convert {\n",
              "      background-color: #E8F0FE;\n",
              "      border: none;\n",
              "      border-radius: 50%;\n",
              "      cursor: pointer;\n",
              "      display: none;\n",
              "      fill: #1967D2;\n",
              "      height: 32px;\n",
              "      padding: 0 0 0 0;\n",
              "      width: 32px;\n",
              "    }\n",
              "\n",
              "    .colab-df-convert:hover {\n",
              "      background-color: #E2EBFA;\n",
              "      box-shadow: 0px 1px 2px rgba(60, 64, 67, 0.3), 0px 1px 3px 1px rgba(60, 64, 67, 0.15);\n",
              "      fill: #174EA6;\n",
              "    }\n",
              "\n",
              "    [theme=dark] .colab-df-convert {\n",
              "      background-color: #3B4455;\n",
              "      fill: #D2E3FC;\n",
              "    }\n",
              "\n",
              "    [theme=dark] .colab-df-convert:hover {\n",
              "      background-color: #434B5C;\n",
              "      box-shadow: 0px 1px 3px 1px rgba(0, 0, 0, 0.15);\n",
              "      filter: drop-shadow(0px 1px 2px rgba(0, 0, 0, 0.3));\n",
              "      fill: #FFFFFF;\n",
              "    }\n",
              "  </style>\n",
              "\n",
              "      <script>\n",
              "        const buttonEl =\n",
              "          document.querySelector('#df-5ed8fc74-8586-43ab-bb70-488a150ff37b button.colab-df-convert');\n",
              "        buttonEl.style.display =\n",
              "          google.colab.kernel.accessAllowed ? 'block' : 'none';\n",
              "\n",
              "        async function convertToInteractive(key) {\n",
              "          const element = document.querySelector('#df-5ed8fc74-8586-43ab-bb70-488a150ff37b');\n",
              "          const dataTable =\n",
              "            await google.colab.kernel.invokeFunction('convertToInteractive',\n",
              "                                                     [key], {});\n",
              "          if (!dataTable) return;\n",
              "\n",
              "          const docLinkHtml = 'Like what you see? Visit the ' +\n",
              "            '<a target=\"_blank\" href=https://colab.research.google.com/notebooks/data_table.ipynb>data table notebook</a>'\n",
              "            + ' to learn more about interactive tables.';\n",
              "          element.innerHTML = '';\n",
              "          dataTable['output_type'] = 'display_data';\n",
              "          await google.colab.output.renderOutput(dataTable, element);\n",
              "          const docLink = document.createElement('div');\n",
              "          docLink.innerHTML = docLinkHtml;\n",
              "          element.appendChild(docLink);\n",
              "        }\n",
              "      </script>\n",
              "    </div>\n",
              "  </div>\n",
              "  "
            ]
          },
          "metadata": {},
          "execution_count": 14
        }
      ]
    },
    {
      "cell_type": "code",
      "source": [
        "_ = data_all[['Weighted_Price','Weighted_Price_Prediction']].plot(figsize=(15, 5))"
      ],
      "metadata": {
        "colab": {
          "base_uri": "https://localhost:8080/",
          "height": 318
        },
        "id": "AGDPpNQFW3pf",
        "outputId": "2c53d68c-bd83-4ecc-85d0-2f0bb227e1c1"
      },
      "execution_count": 15,
      "outputs": [
        {
          "output_type": "display_data",
          "data": {
            "text/plain": [
              "<Figure size 1080x360 with 1 Axes>"
            ],
            "image/png": "[encoded data removed]"
          },
          "metadata": {
            "needs_background": "light"
          }
        }
      ]
    },
    {
      "cell_type": "markdown",
      "source": [
        "5.4.2 Evaluation metrics (MAE, MSE, RMSE)"
      ],
      "metadata": {
        "id": "o9NCxpYAXIJ4"
      }
    },
    {
      "cell_type": "code",
      "source": [
        "from sklearn.metrics import mean_squared_error, mean_absolute_error\n",
        "\n",
        "mae = mean_absolute_error(y_true=testing_data['Weighted_Price'],\n",
        "                   y_pred=testing_data['Weighted_Price_Prediction'])\n",
        "\n",
        "print(\"Mean Accuracy Error:\\n\")\n",
        "print(mae)"
      ],
      "metadata": {
        "colab": {
          "base_uri": "https://localhost:8080/"
        },
        "id": "zLYSUTPYXIYW",
        "outputId": "205feefa-f31f-4c02-a0fb-6741bb314ced"
      },
      "execution_count": 16,
      "outputs": [
        {
          "output_type": "stream",
          "name": "stdout",
          "text": [
            "Mean Accuracy Error:\n",
            "\n",
            "0.5548375584962348\n"
          ]
        }
      ]
    },
    {
      "cell_type": "code",
      "source": [
        "mse = mean_squared_error(y_true=testing_data['Weighted_Price'],\n",
        "                   y_pred=testing_data['Weighted_Price_Prediction'])\n",
        "\n",
        "print(\"Mean Square Error:\\n\")\n",
        "print(mse)"
      ],
      "metadata": {
        "colab": {
          "base_uri": "https://localhost:8080/"
        },
        "id": "K2ZTWHdOXIjW",
        "outputId": "26d7ec3a-5f7b-4c74-f44f-7d81faa1994e"
      },
      "execution_count": 17,
      "outputs": [
        {
          "output_type": "stream",
          "name": "stdout",
          "text": [
            "Mean Square Error:\n",
            "\n",
            "0.3768683943105113\n"
          ]
        }
      ]
    },
    {
      "cell_type": "code",
      "source": [
        "import math\n",
        "rmse = math.sqrt(mse)\n",
        "\n",
        "print(\"Root Mean Square Error:\\n\")\n",
        "print(rmse)"
      ],
      "metadata": {
        "colab": {
          "base_uri": "https://localhost:8080/"
        },
        "id": "rW1vKkQWXIqa",
        "outputId": "efd9f1d9-0197-467c-bb84-4f031ca6af6b"
      },
      "execution_count": 18,
      "outputs": [
        {
          "output_type": "stream",
          "name": "stdout",
          "text": [
            "Root Mean Square Error:\n",
            "\n",
            "0.613896077777429\n"
          ]
        }
      ]
    },
    {
      "cell_type": "markdown",
      "source": [
        "5.4.3 Evaluation metrics (Variance regression score, R2 score)"
      ],
      "metadata": {
        "id": "s_NI70aRXRcD"
      }
    },
    {
      "cell_type": "code",
      "source": [
        "from sklearn.metrics import explained_variance_score\n",
        "evr = (explained_variance_score(y_true=testing_data['Weighted_Price'], y_pred=testing_data['Weighted_Price_Prediction']))*100\n",
        "\n",
        "print(\"Explained variance regression score:\", evr, \"%\")"
      ],
      "metadata": {
        "colab": {
          "base_uri": "https://localhost:8080/"
        },
        "id": "sbLeQQwhW3sJ",
        "outputId": "0f7124d8-4786-4e59-d65f-dbbae72a3abe"
      },
      "execution_count": 19,
      "outputs": [
        {
          "output_type": "stream",
          "name": "stdout",
          "text": [
            "Explained variance regression score: 99.99999887962717 %\n"
          ]
        }
      ]
    },
    {
      "cell_type": "code",
      "source": [
        "from sklearn.metrics import r2_score\n",
        "r2 = (r2_score(y_true=testing_data['Weighted_Price'], y_pred=testing_data['Weighted_Price_Prediction']))*100\n",
        "\n",
        "print(\"R2 score:\", r2, \"%\")"
      ],
      "metadata": {
        "colab": {
          "base_uri": "https://localhost:8080/"
        },
        "id": "0IRA-eExXVQ6",
        "outputId": "56d7626e-b15f-4f8b-8de6-aa9f101846a1"
      },
      "execution_count": 20,
      "outputs": [
        {
          "output_type": "stream",
          "name": "stdout",
          "text": [
            "R2 score: 99.99999388277877 %\n"
          ]
        }
      ]
    },
    {
      "cell_type": "markdown",
      "source": [
        "### 5.5 ARIMA model"
      ],
      "metadata": {
        "id": "l1t1x0iufbVG"
      }
    },
    {
      "cell_type": "markdown",
      "source": [
        "5.5.1 Modelling"
      ],
      "metadata": {
        "id": "EiHhFiiocBxM"
      }
    },
    {
      "cell_type": "code",
      "source": [
        "import statsmodels.api as sm\n",
        "from itertools import product\n",
        "from scipy import stats\n",
        "import warnings"
      ],
      "metadata": {
        "id": "1h0T5QnlYhRp"
      },
      "execution_count": 22,
      "outputs": []
    },
    {
      "cell_type": "code",
      "source": [
        "#create a function for conversion for the native timestamps in the csv file\n",
        "\n",
        "import datetime, pytz\n",
        "\n",
        "def dateparse (time_in_secs):    \n",
        "    return pytz.utc.localize(datetime.datetime.fromtimestamp(float(time_in_secs)))\n",
        "\n",
        "bitcoin_df = pd.read_csv(\"drive/MyDrive/bitcoin_data.csv\", parse_dates = [0], date_parser = dateparse)\n",
        "bitcoin_df.head()"
      ],
      "metadata": {
        "colab": {
          "base_uri": "https://localhost:8080/",
          "height": 204
        },
        "id": "gvpLEKbncW3M",
        "outputId": "2c3dba7e-544b-4a7b-8a29-9b813eb1732a"
      },
      "execution_count": 23,
      "outputs": [
        {
          "output_type": "execute_result",
          "data": {
            "text/plain": [
              "                  Timestamp  Open  High   Low  Close  Volume_(BTC)  \\\n",
              "0 2011-12-31 07:52:00+00:00  4.39  4.39  4.39   4.39      0.455581   \n",
              "1 2011-12-31 07:53:00+00:00   NaN   NaN   NaN    NaN           NaN   \n",
              "2 2011-12-31 07:54:00+00:00   NaN   NaN   NaN    NaN           NaN   \n",
              "3 2011-12-31 07:55:00+00:00   NaN   NaN   NaN    NaN           NaN   \n",
              "4 2011-12-31 07:56:00+00:00   NaN   NaN   NaN    NaN           NaN   \n",
              "\n",
              "   Volume_(Currency)  Weighted_Price  \n",
              "0                2.0            4.39  \n",
              "1                NaN             NaN  \n",
              "2                NaN             NaN  \n",
              "3                NaN             NaN  \n",
              "4                NaN             NaN  "
            ],
            "text/html": [
              "\n",
              "  <div id=\"df-d7a42b7d-ae44-4546-8997-ccb86389cd61\">\n",
              "    <div class=\"colab-df-container\">\n",
              "      <div>\n",
              "<style scoped>\n",
              "    .dataframe tbody tr th:only-of-type {\n",
              "        vertical-align: middle;\n",
              "    }\n",
              "\n",
              "    .dataframe tbody tr th {\n",
              "        vertical-align: top;\n",
              "    }\n",
              "\n",
              "    .dataframe thead th {\n",
              "        text-align: right;\n",
              "    }\n",
              "</style>\n",
              "<table border=\"1\" class=\"dataframe\">\n",
              "  <thead>\n",
              "    <tr style=\"text-align: right;\">\n",
              "      <th></th>\n",
              "      <th>Timestamp</th>\n",
              "      <th>Open</th>\n",
              "      <th>High</th>\n",
              "      <th>Low</th>\n",
              "      <th>Close</th>\n",
              "      <th>Volume_(BTC)</th>\n",
              "      <th>Volume_(Currency)</th>\n",
              "      <th>Weighted_Price</th>\n",
              "    </tr>\n",
              "  </thead>\n",
              "  <tbody>\n",
              "    <tr>\n",
              "      <th>0</th>\n",
              "      <td>2011-12-31 07:52:00+00:00</td>\n",
              "      <td>4.39</td>\n",
              "      <td>4.39</td>\n",
              "      <td>4.39</td>\n",
              "      <td>4.39</td>\n",
              "      <td>0.455581</td>\n",
              "      <td>2.0</td>\n",
              "      <td>4.39</td>\n",
              "    </tr>\n",
              "    <tr>\n",
              "      <th>1</th>\n",
              "      <td>2011-12-31 07:53:00+00:00</td>\n",
              "      <td>NaN</td>\n",
              "      <td>NaN</td>\n",
              "      <td>NaN</td>\n",
              "      <td>NaN</td>\n",
              "      <td>NaN</td>\n",
              "      <td>NaN</td>\n",
              "      <td>NaN</td>\n",
              "    </tr>\n",
              "    <tr>\n",
              "      <th>2</th>\n",
              "      <td>2011-12-31 07:54:00+00:00</td>\n",
              "      <td>NaN</td>\n",
              "      <td>NaN</td>\n",
              "      <td>NaN</td>\n",
              "      <td>NaN</td>\n",
              "      <td>NaN</td>\n",
              "      <td>NaN</td>\n",
              "      <td>NaN</td>\n",
              "    </tr>\n",
              "    <tr>\n",
              "      <th>3</th>\n",
              "      <td>2011-12-31 07:55:00+00:00</td>\n",
              "      <td>NaN</td>\n",
              "      <td>NaN</td>\n",
              "      <td>NaN</td>\n",
              "      <td>NaN</td>\n",
              "      <td>NaN</td>\n",
              "      <td>NaN</td>\n",
              "      <td>NaN</td>\n",
              "    </tr>\n",
              "    <tr>\n",
              "      <th>4</th>\n",
              "      <td>2011-12-31 07:56:00+00:00</td>\n",
              "      <td>NaN</td>\n",
              "      <td>NaN</td>\n",
              "      <td>NaN</td>\n",
              "      <td>NaN</td>\n",
              "      <td>NaN</td>\n",
              "      <td>NaN</td>\n",
              "      <td>NaN</td>\n",
              "    </tr>\n",
              "  </tbody>\n",
              "</table>\n",
              "</div>\n",
              "      <button class=\"colab-df-convert\" onclick=\"convertToInteractive('df-d7a42b7d-ae44-4546-8997-ccb86389cd61')\"\n",
              "              title=\"Convert this dataframe to an interactive table.\"\n",
              "              style=\"display:none;\">\n",
              "        \n",
              "  <svg xmlns=\"http://www.w3.org/2000/svg\" height=\"24px\"viewBox=\"0 0 24 24\"\n",
              "       width=\"24px\">\n",
              "    <path d=\"M0 0h24v24H0V0z\" fill=\"none\"/>\n",
              "    <path d=\"M18.56 5.44l.94 2.06.94-2.06 2.06-.94-2.06-.94-.94-2.06-.94 2.06-2.06.94zm-11 1L8.5 8.5l.94-2.06 2.06-.94-2.06-.94L8.5 2.5l-.94 2.06-2.06.94zm10 10l.94 2.06.94-2.06 2.06-.94-2.06-.94-.94-2.06-.94 2.06-2.06.94z\"/><path d=\"M17.41 7.96l-1.37-1.37c-.4-.4-.92-.59-1.43-.59-.52 0-1.04.2-1.43.59L10.3 9.45l-7.72 7.72c-.78.78-.78 2.05 0 2.83L4 21.41c.39.39.9.59 1.41.59.51 0 1.02-.2 1.41-.59l7.78-7.78 2.81-2.81c.8-.78.8-2.07 0-2.86zM5.41 20L4 18.59l7.72-7.72 1.47 1.35L5.41 20z\"/>\n",
              "  </svg>\n",
              "      </button>\n",
              "      \n",
              "  <style>\n",
              "    .colab-df-container {\n",
              "      display:flex;\n",
              "      flex-wrap:wrap;\n",
              "      gap: 12px;\n",
              "    }\n",
              "\n",
              "    .colab-df-convert {\n",
              "      background-color: #E8F0FE;\n",
              "      border: none;\n",
              "      border-radius: 50%;\n",
              "      cursor: pointer;\n",
              "      display: none;\n",
              "      fill: #1967D2;\n",
              "      height: 32px;\n",
              "      padding: 0 0 0 0;\n",
              "      width: 32px;\n",
              "    }\n",
              "\n",
              "    .colab-df-convert:hover {\n",
              "      background-color: #E2EBFA;\n",
              "      box-shadow: 0px 1px 2px rgba(60, 64, 67, 0.3), 0px 1px 3px 1px rgba(60, 64, 67, 0.15);\n",
              "      fill: #174EA6;\n",
              "    }\n",
              "\n",
              "    [theme=dark] .colab-df-convert {\n",
              "      background-color: #3B4455;\n",
              "      fill: #D2E3FC;\n",
              "    }\n",
              "\n",
              "    [theme=dark] .colab-df-convert:hover {\n",
              "      background-color: #434B5C;\n",
              "      box-shadow: 0px 1px 3px 1px rgba(0, 0, 0, 0.15);\n",
              "      filter: drop-shadow(0px 1px 2px rgba(0, 0, 0, 0.3));\n",
              "      fill: #FFFFFF;\n",
              "    }\n",
              "  </style>\n",
              "\n",
              "      <script>\n",
              "        const buttonEl =\n",
              "          document.querySelector('#df-d7a42b7d-ae44-4546-8997-ccb86389cd61 button.colab-df-convert');\n",
              "        buttonEl.style.display =\n",
              "          google.colab.kernel.accessAllowed ? 'block' : 'none';\n",
              "\n",
              "        async function convertToInteractive(key) {\n",
              "          const element = document.querySelector('#df-d7a42b7d-ae44-4546-8997-ccb86389cd61');\n",
              "          const dataTable =\n",
              "            await google.colab.kernel.invokeFunction('convertToInteractive',\n",
              "                                                     [key], {});\n",
              "          if (!dataTable) return;\n",
              "\n",
              "          const docLinkHtml = 'Like what you see? Visit the ' +\n",
              "            '<a target=\"_blank\" href=https://colab.research.google.com/notebooks/data_table.ipynb>data table notebook</a>'\n",
              "            + ' to learn more about interactive tables.';\n",
              "          element.innerHTML = '';\n",
              "          dataTable['output_type'] = 'display_data';\n",
              "          await google.colab.output.renderOutput(dataTable, element);\n",
              "          const docLink = document.createElement('div');\n",
              "          docLink.innerHTML = docLinkHtml;\n",
              "          element.appendChild(docLink);\n",
              "        }\n",
              "      </script>\n",
              "    </div>\n",
              "  </div>\n",
              "  "
            ]
          },
          "metadata": {},
          "execution_count": 23
        }
      ]
    },
    {
      "cell_type": "code",
      "source": [
        "# using hourly data\n",
        "bitcoin_df = bitcoin_df.groupby([pd.Grouper(key='Timestamp', freq='M')]).first().reset_index()\n",
        "\n",
        "# setting timestamp as index\n",
        "bitcoin_df['Timestamp'] = bitcoin_df['Timestamp'].dt.tz_localize(None)\n",
        "bitcoin_df = bitcoin_df.set_index('Timestamp')\n",
        "\n",
        "# using weighted price to represent btc price\n",
        "bitcoin_df = bitcoin_df[['Weighted_Price']]\n",
        "\n",
        "# fill null values with previous data\n",
        "bitcoin_df['Weighted_Price'].fillna(method='ffill', inplace=True)\n",
        "bitcoin_df.head()"
      ],
      "metadata": {
        "id": "5BVtnqRVcW7Q",
        "colab": {
          "base_uri": "https://localhost:8080/",
          "height": 235
        },
        "outputId": "4c58f580-de83-44bf-ae31-6ad24cfe2685"
      },
      "execution_count": 24,
      "outputs": [
        {
          "output_type": "execute_result",
          "data": {
            "text/plain": [
              "            Weighted_Price\n",
              "Timestamp                 \n",
              "2011-12-31        4.390000\n",
              "2012-01-31        4.580000\n",
              "2012-02-29        5.525435\n",
              "2012-03-31        4.990000\n",
              "2012-04-30        4.890000"
            ],
            "text/html": [
              "\n",
              "  <div id=\"df-2e982d83-bae0-426c-8a8a-055c45361235\">\n",
              "    <div class=\"colab-df-container\">\n",
              "      <div>\n",
              "<style scoped>\n",
              "    .dataframe tbody tr th:only-of-type {\n",
              "        vertical-align: middle;\n",
              "    }\n",
              "\n",
              "    .dataframe tbody tr th {\n",
              "        vertical-align: top;\n",
              "    }\n",
              "\n",
              "    .dataframe thead th {\n",
              "        text-align: right;\n",
              "    }\n",
              "</style>\n",
              "<table border=\"1\" class=\"dataframe\">\n",
              "  <thead>\n",
              "    <tr style=\"text-align: right;\">\n",
              "      <th></th>\n",
              "      <th>Weighted_Price</th>\n",
              "    </tr>\n",
              "    <tr>\n",
              "      <th>Timestamp</th>\n",
              "      <th></th>\n",
              "    </tr>\n",
              "  </thead>\n",
              "  <tbody>\n",
              "    <tr>\n",
              "      <th>2011-12-31</th>\n",
              "      <td>4.390000</td>\n",
              "    </tr>\n",
              "    <tr>\n",
              "      <th>2012-01-31</th>\n",
              "      <td>4.580000</td>\n",
              "    </tr>\n",
              "    <tr>\n",
              "      <th>2012-02-29</th>\n",
              "      <td>5.525435</td>\n",
              "    </tr>\n",
              "    <tr>\n",
              "      <th>2012-03-31</th>\n",
              "      <td>4.990000</td>\n",
              "    </tr>\n",
              "    <tr>\n",
              "      <th>2012-04-30</th>\n",
              "      <td>4.890000</td>\n",
              "    </tr>\n",
              "  </tbody>\n",
              "</table>\n",
              "</div>\n",
              "      <button class=\"colab-df-convert\" onclick=\"convertToInteractive('df-2e982d83-bae0-426c-8a8a-055c45361235')\"\n",
              "              title=\"Convert this dataframe to an interactive table.\"\n",
              "              style=\"display:none;\">\n",
              "        \n",
              "  <svg xmlns=\"http://www.w3.org/2000/svg\" height=\"24px\"viewBox=\"0 0 24 24\"\n",
              "       width=\"24px\">\n",
              "    <path d=\"M0 0h24v24H0V0z\" fill=\"none\"/>\n",
              "    <path d=\"M18.56 5.44l.94 2.06.94-2.06 2.06-.94-2.06-.94-.94-2.06-.94 2.06-2.06.94zm-11 1L8.5 8.5l.94-2.06 2.06-.94-2.06-.94L8.5 2.5l-.94 2.06-2.06.94zm10 10l.94 2.06.94-2.06 2.06-.94-2.06-.94-.94-2.06-.94 2.06-2.06.94z\"/><path d=\"M17.41 7.96l-1.37-1.37c-.4-.4-.92-.59-1.43-.59-.52 0-1.04.2-1.43.59L10.3 9.45l-7.72 7.72c-.78.78-.78 2.05 0 2.83L4 21.41c.39.39.9.59 1.41.59.51 0 1.02-.2 1.41-.59l7.78-7.78 2.81-2.81c.8-.78.8-2.07 0-2.86zM5.41 20L4 18.59l7.72-7.72 1.47 1.35L5.41 20z\"/>\n",
              "  </svg>\n",
              "      </button>\n",
              "      \n",
              "  <style>\n",
              "    .colab-df-container {\n",
              "      display:flex;\n",
              "      flex-wrap:wrap;\n",
              "      gap: 12px;\n",
              "    }\n",
              "\n",
              "    .colab-df-convert {\n",
              "      background-color: #E8F0FE;\n",
              "      border: none;\n",
              "      border-radius: 50%;\n",
              "      cursor: pointer;\n",
              "      display: none;\n",
              "      fill: #1967D2;\n",
              "      height: 32px;\n",
              "      padding: 0 0 0 0;\n",
              "      width: 32px;\n",
              "    }\n",
              "\n",
              "    .colab-df-convert:hover {\n",
              "      background-color: #E2EBFA;\n",
              "      box-shadow: 0px 1px 2px rgba(60, 64, 67, 0.3), 0px 1px 3px 1px rgba(60, 64, 67, 0.15);\n",
              "      fill: #174EA6;\n",
              "    }\n",
              "\n",
              "    [theme=dark] .colab-df-convert {\n",
              "      background-color: #3B4455;\n",
              "      fill: #D2E3FC;\n",
              "    }\n",
              "\n",
              "    [theme=dark] .colab-df-convert:hover {\n",
              "      background-color: #434B5C;\n",
              "      box-shadow: 0px 1px 3px 1px rgba(0, 0, 0, 0.15);\n",
              "      filter: drop-shadow(0px 1px 2px rgba(0, 0, 0, 0.3));\n",
              "      fill: #FFFFFF;\n",
              "    }\n",
              "  </style>\n",
              "\n",
              "      <script>\n",
              "        const buttonEl =\n",
              "          document.querySelector('#df-2e982d83-bae0-426c-8a8a-055c45361235 button.colab-df-convert');\n",
              "        buttonEl.style.display =\n",
              "          google.colab.kernel.accessAllowed ? 'block' : 'none';\n",
              "\n",
              "        async function convertToInteractive(key) {\n",
              "          const element = document.querySelector('#df-2e982d83-bae0-426c-8a8a-055c45361235');\n",
              "          const dataTable =\n",
              "            await google.colab.kernel.invokeFunction('convertToInteractive',\n",
              "                                                     [key], {});\n",
              "          if (!dataTable) return;\n",
              "\n",
              "          const docLinkHtml = 'Like what you see? Visit the ' +\n",
              "            '<a target=\"_blank\" href=https://colab.research.google.com/notebooks/data_table.ipynb>data table notebook</a>'\n",
              "            + ' to learn more about interactive tables.';\n",
              "          element.innerHTML = '';\n",
              "          dataTable['output_type'] = 'display_data';\n",
              "          await google.colab.output.renderOutput(dataTable, element);\n",
              "          const docLink = document.createElement('div');\n",
              "          docLink.innerHTML = docLinkHtml;\n",
              "          element.appendChild(docLink);\n",
              "        }\n",
              "      </script>\n",
              "    </div>\n",
              "  </div>\n",
              "  "
            ]
          },
          "metadata": {},
          "execution_count": 24
        }
      ]
    },
    {
      "cell_type": "code",
      "source": [
        "Ps = range(0, 3)\n",
        "ps = range(0, 3)\n",
        "Qs = range(0, 2)\n",
        "qs = range(0, 3)\n",
        "\n",
        "d=1\n",
        "D=1\n",
        "\n",
        "para = product(ps, qs, Ps, Qs)\n",
        "para_list = list(para)\n",
        "len(para_list)\n",
        "\n",
        "# Model Selection\n",
        "resulting = []\n",
        "aic_bestest = float(\"inf\")\n",
        "warnings.filterwarnings('ignore')\n",
        "\n",
        "for parameters in para_list:\n",
        "    try:\n",
        "        arima_model=sm.tsa.statespace.SARIMAX(bitcoin_df.Weighted_Price, order=(parameters[0], d, parameters[1]), \n",
        "                    seasonal_order=(parameters[2], D, parameters[3], 12),enforce_stationarity=False,\n",
        "                    enforce_invertibility=False).fit(disp=-1)\n",
        "    except ValueError:\n",
        "        continue\n",
        "\n",
        "    aic = arima_model.aic\n",
        "\n",
        "    if aic < aic_bestest:\n",
        "        model_best = arima_model\n",
        "        aic_bestest = aic\n",
        "        best_param = parameters\n",
        "    resulting.append([parameters, arima_model.aic])"
      ],
      "metadata": {
        "id": "vk3iiChnYhUP"
      },
      "execution_count": 26,
      "outputs": []
    },
    {
      "cell_type": "code",
      "source": [
        "# finding the best model\n",
        "\n",
        "result_table = pd.DataFrame(resulting)\n",
        "result_table.columns = ['parameters', 'aic']\n",
        "print(model_best.summary())\n",
        "print(result_table.sort_values(by = 'aic', ascending=True).head())"
      ],
      "metadata": {
        "id": "3uQDAvJVbtxw",
        "colab": {
          "base_uri": "https://localhost:8080/"
        },
        "outputId": "c8266158-418b-4419-fe1a-197f7573381e"
      },
      "execution_count": 27,
      "outputs": [
        {
          "output_type": "stream",
          "name": "stdout",
          "text": [
            "                                     SARIMAX Results                                      \n",
            "==========================================================================================\n",
            "Dep. Variable:                     Weighted_Price   No. Observations:                  112\n",
            "Model:             SARIMAX(2, 1, 0)x(2, 1, 0, 12)   Log Likelihood                -651.204\n",
            "Date:                            Mon, 05 Sep 2022   AIC                           1312.407\n",
            "Time:                                    09:42:28   BIC                           1323.860\n",
            "Sample:                                12-31-2011   HQIC                          1316.971\n",
            "                                     - 03-31-2021                                         \n",
            "Covariance Type:                              opg                                         \n",
            "==============================================================================\n",
            "                 coef    std err          z      P>|z|      [0.025      0.975]\n",
            "------------------------------------------------------------------------------\n",
            "ar.L1          0.5665      0.110      5.153      0.000       0.351       0.782\n",
            "ar.L2          0.4074      0.143      2.845      0.004       0.127       0.688\n",
            "ar.S.L12      -1.0465      0.094    -11.075      0.000      -1.232      -0.861\n",
            "ar.S.L24      -0.8877      0.094     -9.475      0.000      -1.071      -0.704\n",
            "sigma2       3.28e+06   3.37e+05      9.720      0.000    2.62e+06    3.94e+06\n",
            "===================================================================================\n",
            "Ljung-Box (L1) (Q):                   0.07   Jarque-Bera (JB):                44.43\n",
            "Prob(Q):                              0.79   Prob(JB):                         0.00\n",
            "Heteroskedasticity (H):              69.94   Skew:                            -0.34\n",
            "Prob(H) (two-sided):                  0.00   Kurtosis:                         6.76\n",
            "===================================================================================\n",
            "\n",
            "Warnings:\n",
            "[1] Covariance matrix calculated using the outer product of gradients (complex-step).\n",
            "      parameters          aic\n",
            "40  (2, 0, 2, 0)  1312.407325\n",
            "41  (2, 0, 2, 1)  1313.764453\n",
            "46  (2, 1, 2, 0)  1314.060695\n",
            "52  (2, 2, 2, 0)  1315.303136\n",
            "47  (2, 1, 2, 1)  1315.383795\n"
          ]
        }
      ]
    },
    {
      "cell_type": "code",
      "source": [
        "fig = plt.figure(figsize=(21,7))\n",
        "model_best.resid.plot()\n",
        "fig.suptitle('Residual Plot of Best Model')\n",
        "print(\"Dickey–Fuller test:: p=%f\" % sm.tsa.stattools.adfuller(model_best.resid)[1])"
      ],
      "metadata": {
        "id": "BTVSDJ9Abt0t",
        "colab": {
          "base_uri": "https://localhost:8080/",
          "height": 510
        },
        "outputId": "5bcc91c1-4028-4655-bb86-a5ec11ade2e5"
      },
      "execution_count": 28,
      "outputs": [
        {
          "output_type": "stream",
          "name": "stdout",
          "text": [
            "Dickey–Fuller test:: p=0.000000\n"
          ]
        },
        {
          "output_type": "display_data",
          "data": {
            "text/plain": [
              "<Figure size 1512x504 with 1 Axes>"
            ],
            "image/png": "[encoded data removed]"
          },
          "metadata": {
            "needs_background": "light"
          }
        }
      ]
    },
    {
      "cell_type": "markdown",
      "source": [
        "5.5.2 Prediction"
      ],
      "metadata": {
        "id": "1dTa4xkfCVoL"
      }
    },
    {
      "cell_type": "code",
      "source": [
        "btc_df_month = bitcoin_df[['Weighted_Price']]\n",
        "future_price = pd.DataFrame()\n",
        "btc_df_month = pd.concat([btc_df_month, future_price])\n",
        "btc_df_month['forecast'] = model_best.predict(start=0, end=200)\n",
        "\n",
        "plt.figure(figsize=(21,7))\n",
        "btc_df_month.Weighted_Price.plot()\n",
        "btc_df_month.forecast.plot(color='r', ls='--', label='Predicted Weighted_Price')\n",
        "\n",
        "plt.legend()\n",
        "plt.title('Bitcoin Prices (USD) Predicted vs Actuals, by months')\n",
        "plt.ylabel('mean USD')\n",
        "plt.show()"
      ],
      "metadata": {
        "id": "hTm2tpdZbt3L",
        "colab": {
          "base_uri": "https://localhost:8080/",
          "height": 458
        },
        "outputId": "3d121758-1eba-4043-cbaf-7abb02cd9049"
      },
      "execution_count": 29,
      "outputs": [
        {
          "output_type": "display_data",
          "data": {
            "text/plain": [
              "<Figure size 1512x504 with 1 Axes>"
            ],
            "image/png": "[encoded data removed]"
          },
          "metadata": {
            "needs_background": "light"
          }
        }
      ]
    },
    {
      "cell_type": "code",
      "source": [
        "# find predicted values\n",
        "\n",
        "prediction = model_best.predict(start=0, end=111)\n",
        "prediction = prediction.to_numpy()\n",
        "\n",
        "bitcoin_df['Weighted_Price_Prediction'] = prediction"
      ],
      "metadata": {
        "id": "pdGNs4DUcy0f"
      },
      "execution_count": 30,
      "outputs": []
    },
    {
      "cell_type": "code",
      "source": [
        "final_data = bitcoin_df.reset_index()\n",
        "final_data = final_data.rename(columns={'Weighted_Price_Prediction': 'ARIMA'})\n",
        "final_data = final_data[['Timestamp','Weighted_Price','ARIMA']]"
      ],
      "metadata": {
        "id": "PN5mH5xOv8oH"
      },
      "execution_count": 31,
      "outputs": []
    },
    {
      "cell_type": "markdown",
      "source": [
        "5.5.3 Evaluation metrics (MAE, MSE, RMSE)"
      ],
      "metadata": {
        "id": "oglX4yvP0vay"
      }
    },
    {
      "cell_type": "code",
      "source": [
        "from sklearn.metrics import mean_squared_error, mean_absolute_error\n",
        "\n",
        "mae = mean_absolute_error(y_true=final_data['Weighted_Price'],\n",
        "                   y_pred=final_data['ARIMA'])\n",
        "\n",
        "print(\"Mean Accuracy Error:\\n\")\n",
        "print(mae)\n",
        "print()"
      ],
      "metadata": {
        "id": "vCpTq5uo1RlE",
        "colab": {
          "base_uri": "https://localhost:8080/"
        },
        "outputId": "dab79027-3b77-4290-ebb9-835942ab055e"
      },
      "execution_count": 32,
      "outputs": [
        {
          "output_type": "stream",
          "name": "stdout",
          "text": [
            "Mean Accuracy Error:\n",
            "\n",
            "780.9481408538622\n",
            "\n"
          ]
        }
      ]
    },
    {
      "cell_type": "code",
      "source": [
        "mse = mean_squared_error(y_true=final_data['Weighted_Price'],\n",
        "                   y_pred=final_data['ARIMA'])\n",
        "\n",
        "print(\"Mean Square Error:\\n\")\n",
        "print(mse)"
      ],
      "metadata": {
        "id": "nb3jYxP21Rev",
        "colab": {
          "base_uri": "https://localhost:8080/"
        },
        "outputId": "f4715c60-7e1b-4053-d9a6-28dd4bb57bfa"
      },
      "execution_count": 33,
      "outputs": [
        {
          "output_type": "stream",
          "name": "stdout",
          "text": [
            "Mean Square Error:\n",
            "\n",
            "2153527.7231133715\n"
          ]
        }
      ]
    },
    {
      "cell_type": "code",
      "source": [
        "import math\n",
        "rmse = math.sqrt(mse)\n",
        "\n",
        "print(\"Root Mean Square Error:\\n\")\n",
        "print(rmse)"
      ],
      "metadata": {
        "id": "-mFcUtBk1Rpy",
        "colab": {
          "base_uri": "https://localhost:8080/"
        },
        "outputId": "7cb86b72-b875-4301-a3c3-d775fb2e45c9"
      },
      "execution_count": 34,
      "outputs": [
        {
          "output_type": "stream",
          "name": "stdout",
          "text": [
            "Root Mean Square Error:\n",
            "\n",
            "1467.4902804152985\n"
          ]
        }
      ]
    },
    {
      "cell_type": "markdown",
      "source": [
        "5.5.3 Evaluation metrics (Variance regression score, R2 score)"
      ],
      "metadata": {
        "id": "SuKUhluo0vjF"
      }
    },
    {
      "cell_type": "code",
      "source": [
        "from sklearn.metrics import explained_variance_score\n",
        "\n",
        "evr = (explained_variance_score(y_true=final_data['Weighted_Price'], y_pred=final_data['ARIMA']))*100\n",
        "\n",
        "print(\"Explained variance regression score:\", evr, \"%\")"
      ],
      "metadata": {
        "id": "Bvt0LZhp0uDF",
        "colab": {
          "base_uri": "https://localhost:8080/"
        },
        "outputId": "feaf4ba6-35bd-4e47-ae3c-4932e370bb1a"
      },
      "execution_count": 35,
      "outputs": [
        {
          "output_type": "stream",
          "name": "stdout",
          "text": [
            "Explained variance regression score: 95.4059050828312 %\n"
          ]
        }
      ]
    },
    {
      "cell_type": "code",
      "source": [
        "from sklearn.metrics import r2_score\n",
        "r2 = (r2_score(y_true=final_data['Weighted_Price'], y_pred=final_data['ARIMA']))*100\n",
        "\n",
        "print(\"R2 score:\", r2, \"%\")"
      ],
      "metadata": {
        "id": "xavCYGrE0uZ0",
        "colab": {
          "base_uri": "https://localhost:8080/"
        },
        "outputId": "7007a17e-d1de-4b22-fbe8-d10f1bd6364a"
      },
      "execution_count": 36,
      "outputs": [
        {
          "output_type": "stream",
          "name": "stdout",
          "text": [
            "R2 score: 95.36372593970333 %\n"
          ]
        }
      ]
    }
  ]
}